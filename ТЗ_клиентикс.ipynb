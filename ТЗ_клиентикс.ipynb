{
 "cells": [
  {
   "cell_type": "code",
   "execution_count": 90,
   "metadata": {},
   "outputs": [],
   "source": [
    "import requests\n",
    "import time\n",
    "from random import randrange\n",
    "from datetime import date, timedelta\n",
    "\n",
    "# генерация случайной даты\n",
    "def random_date(start, end):\n",
    "    delta = end - start\n",
    "    random_days = randrange(delta.days)\n",
    "    return start + timedelta(days=random_days)\n",
    "\n",
    "d1 = date(1970, 1, 1)\n",
    "d2 = date(2000, 12, 31)\n",
    "\n",
    "account_id = '941a3854e7c6'\n",
    "user_id = 'd591cb0d01c9'\n",
    "token = 'e640cf15d908acd10eb2d9a3e9964923'\n",
    "n1, n2 = 0, 1\n",
    "\n",
    "# Создание клиента\n",
    "for i in range(50):\n",
    "    name = f'name_{i + 1}'\n",
    "    \n",
    "    # числа Фибоначчи\n",
    "    n1, n2 = n2, n1 + n2\n",
    "    \n",
    "    date_str = str(random_date(d1, d2))\n",
    "    date = f'{date_str[-2:]}.{date_str[5:7]}.{date_str[:4]}'\n",
    "\n",
    "    r = requests.post(f\"https://klientiks.ru/clientix/Restapi/add/a/{account_id}/u/{user_id}/t/{token}/m/Clients/\",\n",
    "                  data={\n",
    "                      \"first_name\": name,\n",
    "                      \"number\": n2,\n",
    "                      \"birth_date\": date,\n",
    "                  })\n",
    "    time.sleep(3)"
   ]
  }
 ],
 "metadata": {
  "kernelspec": {
   "display_name": "Python 3",
   "language": "python",
   "name": "python3"
  },
  "language_info": {
   "codemirror_mode": {
    "name": "ipython",
    "version": 3
   },
   "file_extension": ".py",
   "mimetype": "text/x-python",
   "name": "python",
   "nbconvert_exporter": "python",
   "pygments_lexer": "ipython3",
   "version": "3.8.6"
  }
 },
 "nbformat": 4,
 "nbformat_minor": 4
}
